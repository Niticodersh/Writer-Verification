{
  "nbformat": 4,
  "nbformat_minor": 0,
  "metadata": {
    "colab": {
      "provenance": [],
      "gpuType": "T4"
    },
    "kernelspec": {
      "name": "python3",
      "display_name": "Python 3"
    },
    "language_info": {
      "name": "python"
    },
    "accelerator": "GPU"
  },
  "cells": [
    {
      "cell_type": "markdown",
      "source": [
        "# Importing Libraries"
      ],
      "metadata": {
        "id": "NlkJQdcy-f4P"
      }
    },
    {
      "cell_type": "code",
      "execution_count": 4,
      "metadata": {
        "id": "3gVfxcgacxC4"
      },
      "outputs": [],
      "source": [
        "import os\n",
        "import random\n",
        "import pandas as pd\n",
        "import numpy as np\n",
        "import matplotlib.pyplot as plt\n",
        "import cv2\n",
        "from torch.utils.data import DataLoader\n",
        "import random\n",
        "from PIL import Image\n",
        "import PIL.ImageOps\n",
        "import torch\n",
        "import torchvision\n",
        "from torchvision import transforms\n",
        "from torch.utils.data import dataloader\n",
        "import torchvision.utils\n",
        "from torch.autograd import Variable\n",
        "import torch.nn as nn\n",
        "from torch import optim\n",
        "import torch.nn.functional as F\n",
        "import torch.optim as optim\n",
        "from torch.optim.lr_scheduler import ExponentialLR\n",
        "from torch.utils.data import DataLoader, Dataset\n",
        "from sklearn.neighbors import KNeighborsClassifier\n",
        "from scipy.spatial.distance import euclidean\n",
        "from sklearn.ensemble import AdaBoostClassifier\n",
        "from sklearn.ensemble import GradientBoostingClassifier\n",
        "from sklearn.neighbors import KNeighborsClassifier\n",
        "import joblib\n",
        "from sklearn.svm import SVC\n",
        "from sklearn.metrics import f1_score, roc_auc_score, accuracy_score"
      ]
    },
    {
      "cell_type": "markdown",
      "source": [
        "# Code for training dataset creation"
      ],
      "metadata": {
        "id": "hh46CSSEnK9J"
      }
    },
    {
      "cell_type": "code",
      "source": [
        "def split_pairs_by_writer_folders(data_folder):\n",
        "    writer_folders = os.listdir(data_folder)\n",
        "    similar_pairs = []\n",
        "    dissimilar_pairs = []\n",
        "\n",
        "    for folder in writer_folders:\n",
        "        folder_path = os.path.join(data_folder, folder)\n",
        "        images = os.listdir(folder_path)\n",
        "\n",
        "        # Generate all possible pairs of images within the folder\n",
        "        image_pairs = [(os.path.join(folder_path, images[i]), os.path.join(folder_path, images[j])) for i in range(len(images)) for j in range(i + 1, len(images))]\n",
        "\n",
        "        # Shuffle the pairs randomly\n",
        "        random.shuffle(image_pairs)\n",
        "\n",
        "        # Select 6 random similar pairs and assign label 1\n",
        "        similar_pairs.extend([(image1_path, image2_path, 1) for image1_path, image2_path in image_pairs[:6]])\n",
        "\n",
        "        # Select 6 random dissimilar pairs from different writer folders and assign label 0\n",
        "        other_writer_folders = writer_folders.copy()\n",
        "        other_writer_folders.remove(folder)\n",
        "\n",
        "        for _ in range(6):\n",
        "            random_writer_folder = random.choice(other_writer_folders)\n",
        "            other_writer_folders.remove(random_writer_folder)\n",
        "\n",
        "            other_folder_path = os.path.join(data_folder, random_writer_folder)\n",
        "            other_images = os.listdir(other_folder_path)\n",
        "            random_image = random.choice(other_images)\n",
        "\n",
        "            dissimilar_pairs.append((os.path.join(folder_path, random.choice(images)), os.path.join(other_folder_path, random_image), 0))\n",
        "\n",
        "    return similar_pairs, dissimilar_pairs\n",
        "\n",
        "\n",
        "data_folder = '/content/drive/MyDrive/dataset/train'\n",
        "\n",
        "similar_pairs, dissimilar_pairs = split_pairs_by_writer_folders(data_folder)\n",
        "\n",
        "print(f\"Number of similar writer pairs: {len(similar_pairs)}\")\n",
        "print(f\"Number of dissimilar writer pairs: {len(dissimilar_pairs)}\")\n"
      ],
      "metadata": {
        "colab": {
          "base_uri": "https://localhost:8080/"
        },
        "id": "kwNz8jDQ4Pma",
        "outputId": "48800491-4025-4165-9872-ea84070ea635"
      },
      "execution_count": null,
      "outputs": [
        {
          "output_type": "stream",
          "name": "stdout",
          "text": [
            "Number of similar writer pairs: 8112\n",
            "Number of dissimilar writer pairs: 8112\n"
          ]
        }
      ]
    },
    {
      "cell_type": "code",
      "source": [
        "similar_pairs"
      ],
      "metadata": {
        "id": "tWAyRYSkxTnh"
      },
      "execution_count": null,
      "outputs": []
    },
    {
      "cell_type": "code",
      "source": [
        "dissimilar_pairs"
      ],
      "metadata": {
        "id": "F0D4lOLYzp_I"
      },
      "execution_count": null,
      "outputs": []
    },
    {
      "cell_type": "code",
      "source": [
        "pairs=[]\n",
        "pairs.extend(similar_pairs)\n",
        "pairs.extend(dissimilar_pairs)\n",
        "pairs"
      ],
      "metadata": {
        "id": "RmPmAhNX1B9A"
      },
      "execution_count": null,
      "outputs": []
    },
    {
      "cell_type": "code",
      "source": [
        "len(pairs)"
      ],
      "metadata": {
        "colab": {
          "base_uri": "https://localhost:8080/"
        },
        "id": "YJVrUwhZxwwY",
        "outputId": "906587ca-4de1-4bed-946a-714bc33d1779"
      },
      "execution_count": null,
      "outputs": [
        {
          "output_type": "execute_result",
          "data": {
            "text/plain": [
              "16224"
            ]
          },
          "metadata": {},
          "execution_count": 55
        }
      ]
    },
    {
      "cell_type": "code",
      "source": [
        "df = pd.DataFrame(pairs, columns=['image1_path', 'image2_path', 'label'])"
      ],
      "metadata": {
        "id": "6f2gIm6cyKTe"
      },
      "execution_count": null,
      "outputs": []
    },
    {
      "cell_type": "code",
      "source": [
        "df.head()"
      ],
      "metadata": {
        "colab": {
          "base_uri": "https://localhost:8080/",
          "height": 270
        },
        "id": "YqYBNUpnymIN",
        "outputId": "5a84e8f8-629c-4d73-8d44-38a4242274ee"
      },
      "execution_count": null,
      "outputs": [
        {
          "output_type": "execute_result",
          "data": {
            "text/plain": [
              "                                         image1_path  \\\n",
              "0  /content/drive/MyDrive/dataset/train/P2253/B3.jpg   \n",
              "1  /content/drive/MyDrive/dataset/train/P2253/B1.jpg   \n",
              "2  /content/drive/MyDrive/dataset/train/P2253/B2.jpg   \n",
              "3  /content/drive/MyDrive/dataset/train/P2253/B2.jpg   \n",
              "4  /content/drive/MyDrive/dataset/train/P2253/B1.jpg   \n",
              "\n",
              "                                         image2_path  label  \n",
              "0  /content/drive/MyDrive/dataset/train/P2253/B0.jpg      1  \n",
              "1  /content/drive/MyDrive/dataset/train/P2253/B3.jpg      1  \n",
              "2  /content/drive/MyDrive/dataset/train/P2253/B3.jpg      1  \n",
              "3  /content/drive/MyDrive/dataset/train/P2253/B0.jpg      1  \n",
              "4  /content/drive/MyDrive/dataset/train/P2253/B0.jpg      1  "
            ],
            "text/html": [
              "\n",
              "  <div id=\"df-d8d62895-4ab3-4b9a-b82d-69eb3fe770e9\">\n",
              "    <div class=\"colab-df-container\">\n",
              "      <div>\n",
              "<style scoped>\n",
              "    .dataframe tbody tr th:only-of-type {\n",
              "        vertical-align: middle;\n",
              "    }\n",
              "\n",
              "    .dataframe tbody tr th {\n",
              "        vertical-align: top;\n",
              "    }\n",
              "\n",
              "    .dataframe thead th {\n",
              "        text-align: right;\n",
              "    }\n",
              "</style>\n",
              "<table border=\"1\" class=\"dataframe\">\n",
              "  <thead>\n",
              "    <tr style=\"text-align: right;\">\n",
              "      <th></th>\n",
              "      <th>image1_path</th>\n",
              "      <th>image2_path</th>\n",
              "      <th>label</th>\n",
              "    </tr>\n",
              "  </thead>\n",
              "  <tbody>\n",
              "    <tr>\n",
              "      <th>0</th>\n",
              "      <td>/content/drive/MyDrive/dataset/train/P2253/B3.jpg</td>\n",
              "      <td>/content/drive/MyDrive/dataset/train/P2253/B0.jpg</td>\n",
              "      <td>1</td>\n",
              "    </tr>\n",
              "    <tr>\n",
              "      <th>1</th>\n",
              "      <td>/content/drive/MyDrive/dataset/train/P2253/B1.jpg</td>\n",
              "      <td>/content/drive/MyDrive/dataset/train/P2253/B3.jpg</td>\n",
              "      <td>1</td>\n",
              "    </tr>\n",
              "    <tr>\n",
              "      <th>2</th>\n",
              "      <td>/content/drive/MyDrive/dataset/train/P2253/B2.jpg</td>\n",
              "      <td>/content/drive/MyDrive/dataset/train/P2253/B3.jpg</td>\n",
              "      <td>1</td>\n",
              "    </tr>\n",
              "    <tr>\n",
              "      <th>3</th>\n",
              "      <td>/content/drive/MyDrive/dataset/train/P2253/B2.jpg</td>\n",
              "      <td>/content/drive/MyDrive/dataset/train/P2253/B0.jpg</td>\n",
              "      <td>1</td>\n",
              "    </tr>\n",
              "    <tr>\n",
              "      <th>4</th>\n",
              "      <td>/content/drive/MyDrive/dataset/train/P2253/B1.jpg</td>\n",
              "      <td>/content/drive/MyDrive/dataset/train/P2253/B0.jpg</td>\n",
              "      <td>1</td>\n",
              "    </tr>\n",
              "  </tbody>\n",
              "</table>\n",
              "</div>\n",
              "      <button class=\"colab-df-convert\" onclick=\"convertToInteractive('df-d8d62895-4ab3-4b9a-b82d-69eb3fe770e9')\"\n",
              "              title=\"Convert this dataframe to an interactive table.\"\n",
              "              style=\"display:none;\">\n",
              "        \n",
              "  <svg xmlns=\"http://www.w3.org/2000/svg\" height=\"24px\"viewBox=\"0 0 24 24\"\n",
              "       width=\"24px\">\n",
              "    <path d=\"M0 0h24v24H0V0z\" fill=\"none\"/>\n",
              "    <path d=\"M18.56 5.44l.94 2.06.94-2.06 2.06-.94-2.06-.94-.94-2.06-.94 2.06-2.06.94zm-11 1L8.5 8.5l.94-2.06 2.06-.94-2.06-.94L8.5 2.5l-.94 2.06-2.06.94zm10 10l.94 2.06.94-2.06 2.06-.94-2.06-.94-.94-2.06-.94 2.06-2.06.94z\"/><path d=\"M17.41 7.96l-1.37-1.37c-.4-.4-.92-.59-1.43-.59-.52 0-1.04.2-1.43.59L10.3 9.45l-7.72 7.72c-.78.78-.78 2.05 0 2.83L4 21.41c.39.39.9.59 1.41.59.51 0 1.02-.2 1.41-.59l7.78-7.78 2.81-2.81c.8-.78.8-2.07 0-2.86zM5.41 20L4 18.59l7.72-7.72 1.47 1.35L5.41 20z\"/>\n",
              "  </svg>\n",
              "      </button>\n",
              "      \n",
              "  <style>\n",
              "    .colab-df-container {\n",
              "      display:flex;\n",
              "      flex-wrap:wrap;\n",
              "      gap: 12px;\n",
              "    }\n",
              "\n",
              "    .colab-df-convert {\n",
              "      background-color: #E8F0FE;\n",
              "      border: none;\n",
              "      border-radius: 50%;\n",
              "      cursor: pointer;\n",
              "      display: none;\n",
              "      fill: #1967D2;\n",
              "      height: 32px;\n",
              "      padding: 0 0 0 0;\n",
              "      width: 32px;\n",
              "    }\n",
              "\n",
              "    .colab-df-convert:hover {\n",
              "      background-color: #E2EBFA;\n",
              "      box-shadow: 0px 1px 2px rgba(60, 64, 67, 0.3), 0px 1px 3px 1px rgba(60, 64, 67, 0.15);\n",
              "      fill: #174EA6;\n",
              "    }\n",
              "\n",
              "    [theme=dark] .colab-df-convert {\n",
              "      background-color: #3B4455;\n",
              "      fill: #D2E3FC;\n",
              "    }\n",
              "\n",
              "    [theme=dark] .colab-df-convert:hover {\n",
              "      background-color: #434B5C;\n",
              "      box-shadow: 0px 1px 3px 1px rgba(0, 0, 0, 0.15);\n",
              "      filter: drop-shadow(0px 1px 2px rgba(0, 0, 0, 0.3));\n",
              "      fill: #FFFFFF;\n",
              "    }\n",
              "  </style>\n",
              "\n",
              "      <script>\n",
              "        const buttonEl =\n",
              "          document.querySelector('#df-d8d62895-4ab3-4b9a-b82d-69eb3fe770e9 button.colab-df-convert');\n",
              "        buttonEl.style.display =\n",
              "          google.colab.kernel.accessAllowed ? 'block' : 'none';\n",
              "\n",
              "        async function convertToInteractive(key) {\n",
              "          const element = document.querySelector('#df-d8d62895-4ab3-4b9a-b82d-69eb3fe770e9');\n",
              "          const dataTable =\n",
              "            await google.colab.kernel.invokeFunction('convertToInteractive',\n",
              "                                                     [key], {});\n",
              "          if (!dataTable) return;\n",
              "\n",
              "          const docLinkHtml = 'Like what you see? Visit the ' +\n",
              "            '<a target=\"_blank\" href=https://colab.research.google.com/notebooks/data_table.ipynb>data table notebook</a>'\n",
              "            + ' to learn more about interactive tables.';\n",
              "          element.innerHTML = '';\n",
              "          dataTable['output_type'] = 'display_data';\n",
              "          await google.colab.output.renderOutput(dataTable, element);\n",
              "          const docLink = document.createElement('div');\n",
              "          docLink.innerHTML = docLinkHtml;\n",
              "          element.appendChild(docLink);\n",
              "        }\n",
              "      </script>\n",
              "    </div>\n",
              "  </div>\n",
              "  "
            ]
          },
          "metadata": {},
          "execution_count": 57
        }
      ]
    },
    {
      "cell_type": "code",
      "source": [
        "df.info()"
      ],
      "metadata": {
        "colab": {
          "base_uri": "https://localhost:8080/"
        },
        "id": "3qMZ5uxazEMP",
        "outputId": "ab4184dc-17d0-467c-d657-e085a0b8eda9"
      },
      "execution_count": null,
      "outputs": [
        {
          "output_type": "stream",
          "name": "stdout",
          "text": [
            "<class 'pandas.core.frame.DataFrame'>\n",
            "RangeIndex: 16224 entries, 0 to 16223\n",
            "Data columns (total 3 columns):\n",
            " #   Column       Non-Null Count  Dtype \n",
            "---  ------       --------------  ----- \n",
            " 0   image1_path  16224 non-null  object\n",
            " 1   image2_path  16224 non-null  object\n",
            " 2   label        16224 non-null  int64 \n",
            "dtypes: int64(1), object(2)\n",
            "memory usage: 380.4+ KB\n"
          ]
        }
      ]
    },
    {
      "cell_type": "code",
      "source": [
        "# Shuffle the samples in the DataFrame\n",
        "shuffled_df = df.sample(frac=1).reset_index(drop=True)"
      ],
      "metadata": {
        "id": "ZqNa_bmWzc2h"
      },
      "execution_count": null,
      "outputs": []
    },
    {
      "cell_type": "code",
      "source": [
        "data=shuffled_df.copy()"
      ],
      "metadata": {
        "id": "RVrQLg5Dz1lE"
      },
      "execution_count": null,
      "outputs": []
    },
    {
      "cell_type": "code",
      "source": [
        "data.to_csv(\"/content/drive/MyDrive/dataset/Training_Dataset.csv\",index=False)"
      ],
      "metadata": {
        "id": "yrZEx7s3z-Fc"
      },
      "execution_count": null,
      "outputs": []
    },
    {
      "cell_type": "markdown",
      "source": [
        "# Loading Training Dataset"
      ],
      "metadata": {
        "id": "0hMN0GuG_ikO"
      }
    },
    {
      "cell_type": "code",
      "execution_count": 5,
      "metadata": {
        "id": "d_aPz20lc9mi"
      },
      "outputs": [],
      "source": [
        "data=pd.read_csv(\"/content/drive/MyDrive/dataset/Training_Dataset.csv\")"
      ]
    },
    {
      "cell_type": "code",
      "execution_count": 6,
      "metadata": {
        "colab": {
          "base_uri": "https://localhost:8080/",
          "height": 206
        },
        "id": "x6yUa4FCdEel",
        "outputId": "54dd9590-6f5d-4a44-bbca-a6a718e55c4d"
      },
      "outputs": [
        {
          "output_type": "execute_result",
          "data": {
            "text/plain": [
              "                                         image1_path  \\\n",
              "0   /content/drive/MyDrive/dataset/train/P157/B4.jpg   \n",
              "1  /content/drive/MyDrive/dataset/train/P1683/B0.jpg   \n",
              "2  /content/drive/MyDrive/dataset/train/P1916/B2.jpg   \n",
              "3   /content/drive/MyDrive/dataset/train/P758/B4.jpg   \n",
              "4   /content/drive/MyDrive/dataset/train/P226/B2.jpg   \n",
              "\n",
              "                                         image2_path  label  \n",
              "0  /content/drive/MyDrive/dataset/train/P1263/B1.jpg      0  \n",
              "1  /content/drive/MyDrive/dataset/train/P1683/B6.jpg      1  \n",
              "2  /content/drive/MyDrive/dataset/train/P1916/B0.jpg      1  \n",
              "3   /content/drive/MyDrive/dataset/train/P758/A1.jpg      1  \n",
              "4   /content/drive/MyDrive/dataset/train/P226/A2.jpg      1  "
            ],
            "text/html": [
              "\n",
              "\n",
              "  <div id=\"df-e2c920e6-b12b-4649-bb14-3bb52b817224\">\n",
              "    <div class=\"colab-df-container\">\n",
              "      <div>\n",
              "<style scoped>\n",
              "    .dataframe tbody tr th:only-of-type {\n",
              "        vertical-align: middle;\n",
              "    }\n",
              "\n",
              "    .dataframe tbody tr th {\n",
              "        vertical-align: top;\n",
              "    }\n",
              "\n",
              "    .dataframe thead th {\n",
              "        text-align: right;\n",
              "    }\n",
              "</style>\n",
              "<table border=\"1\" class=\"dataframe\">\n",
              "  <thead>\n",
              "    <tr style=\"text-align: right;\">\n",
              "      <th></th>\n",
              "      <th>image1_path</th>\n",
              "      <th>image2_path</th>\n",
              "      <th>label</th>\n",
              "    </tr>\n",
              "  </thead>\n",
              "  <tbody>\n",
              "    <tr>\n",
              "      <th>0</th>\n",
              "      <td>/content/drive/MyDrive/dataset/train/P157/B4.jpg</td>\n",
              "      <td>/content/drive/MyDrive/dataset/train/P1263/B1.jpg</td>\n",
              "      <td>0</td>\n",
              "    </tr>\n",
              "    <tr>\n",
              "      <th>1</th>\n",
              "      <td>/content/drive/MyDrive/dataset/train/P1683/B0.jpg</td>\n",
              "      <td>/content/drive/MyDrive/dataset/train/P1683/B6.jpg</td>\n",
              "      <td>1</td>\n",
              "    </tr>\n",
              "    <tr>\n",
              "      <th>2</th>\n",
              "      <td>/content/drive/MyDrive/dataset/train/P1916/B2.jpg</td>\n",
              "      <td>/content/drive/MyDrive/dataset/train/P1916/B0.jpg</td>\n",
              "      <td>1</td>\n",
              "    </tr>\n",
              "    <tr>\n",
              "      <th>3</th>\n",
              "      <td>/content/drive/MyDrive/dataset/train/P758/B4.jpg</td>\n",
              "      <td>/content/drive/MyDrive/dataset/train/P758/A1.jpg</td>\n",
              "      <td>1</td>\n",
              "    </tr>\n",
              "    <tr>\n",
              "      <th>4</th>\n",
              "      <td>/content/drive/MyDrive/dataset/train/P226/B2.jpg</td>\n",
              "      <td>/content/drive/MyDrive/dataset/train/P226/A2.jpg</td>\n",
              "      <td>1</td>\n",
              "    </tr>\n",
              "  </tbody>\n",
              "</table>\n",
              "</div>\n",
              "      <button class=\"colab-df-convert\" onclick=\"convertToInteractive('df-e2c920e6-b12b-4649-bb14-3bb52b817224')\"\n",
              "              title=\"Convert this dataframe to an interactive table.\"\n",
              "              style=\"display:none;\">\n",
              "\n",
              "  <svg xmlns=\"http://www.w3.org/2000/svg\" height=\"24px\"viewBox=\"0 0 24 24\"\n",
              "       width=\"24px\">\n",
              "    <path d=\"M0 0h24v24H0V0z\" fill=\"none\"/>\n",
              "    <path d=\"M18.56 5.44l.94 2.06.94-2.06 2.06-.94-2.06-.94-.94-2.06-.94 2.06-2.06.94zm-11 1L8.5 8.5l.94-2.06 2.06-.94-2.06-.94L8.5 2.5l-.94 2.06-2.06.94zm10 10l.94 2.06.94-2.06 2.06-.94-2.06-.94-.94-2.06-.94 2.06-2.06.94z\"/><path d=\"M17.41 7.96l-1.37-1.37c-.4-.4-.92-.59-1.43-.59-.52 0-1.04.2-1.43.59L10.3 9.45l-7.72 7.72c-.78.78-.78 2.05 0 2.83L4 21.41c.39.39.9.59 1.41.59.51 0 1.02-.2 1.41-.59l7.78-7.78 2.81-2.81c.8-.78.8-2.07 0-2.86zM5.41 20L4 18.59l7.72-7.72 1.47 1.35L5.41 20z\"/>\n",
              "  </svg>\n",
              "      </button>\n",
              "\n",
              "\n",
              "\n",
              "    <div id=\"df-6c3d770b-efdb-4c70-968b-5974d611fd80\">\n",
              "      <button class=\"colab-df-quickchart\" onclick=\"quickchart('df-6c3d770b-efdb-4c70-968b-5974d611fd80')\"\n",
              "              title=\"Suggest charts.\"\n",
              "              style=\"display:none;\">\n",
              "\n",
              "<svg xmlns=\"http://www.w3.org/2000/svg\" height=\"24px\"viewBox=\"0 0 24 24\"\n",
              "     width=\"24px\">\n",
              "    <g>\n",
              "        <path d=\"M19 3H5c-1.1 0-2 .9-2 2v14c0 1.1.9 2 2 2h14c1.1 0 2-.9 2-2V5c0-1.1-.9-2-2-2zM9 17H7v-7h2v7zm4 0h-2V7h2v10zm4 0h-2v-4h2v4z\"/>\n",
              "    </g>\n",
              "</svg>\n",
              "      </button>\n",
              "    </div>\n",
              "\n",
              "<style>\n",
              "  .colab-df-quickchart {\n",
              "    background-color: #E8F0FE;\n",
              "    border: none;\n",
              "    border-radius: 50%;\n",
              "    cursor: pointer;\n",
              "    display: none;\n",
              "    fill: #1967D2;\n",
              "    height: 32px;\n",
              "    padding: 0 0 0 0;\n",
              "    width: 32px;\n",
              "  }\n",
              "\n",
              "  .colab-df-quickchart:hover {\n",
              "    background-color: #E2EBFA;\n",
              "    box-shadow: 0px 1px 2px rgba(60, 64, 67, 0.3), 0px 1px 3px 1px rgba(60, 64, 67, 0.15);\n",
              "    fill: #174EA6;\n",
              "  }\n",
              "\n",
              "  [theme=dark] .colab-df-quickchart {\n",
              "    background-color: #3B4455;\n",
              "    fill: #D2E3FC;\n",
              "  }\n",
              "\n",
              "  [theme=dark] .colab-df-quickchart:hover {\n",
              "    background-color: #434B5C;\n",
              "    box-shadow: 0px 1px 3px 1px rgba(0, 0, 0, 0.15);\n",
              "    filter: drop-shadow(0px 1px 2px rgba(0, 0, 0, 0.3));\n",
              "    fill: #FFFFFF;\n",
              "  }\n",
              "</style>\n",
              "\n",
              "    <script>\n",
              "      async function quickchart(key) {\n",
              "        const containerElement = document.querySelector('#' + key);\n",
              "        const charts = await google.colab.kernel.invokeFunction(\n",
              "            'suggestCharts', [key], {});\n",
              "      }\n",
              "    </script>\n",
              "\n",
              "      <script>\n",
              "\n",
              "function displayQuickchartButton(domScope) {\n",
              "  let quickchartButtonEl =\n",
              "    domScope.querySelector('#df-6c3d770b-efdb-4c70-968b-5974d611fd80 button.colab-df-quickchart');\n",
              "  quickchartButtonEl.style.display =\n",
              "    google.colab.kernel.accessAllowed ? 'block' : 'none';\n",
              "}\n",
              "\n",
              "        displayQuickchartButton(document);\n",
              "      </script>\n",
              "      <style>\n",
              "    .colab-df-container {\n",
              "      display:flex;\n",
              "      flex-wrap:wrap;\n",
              "      gap: 12px;\n",
              "    }\n",
              "\n",
              "    .colab-df-convert {\n",
              "      background-color: #E8F0FE;\n",
              "      border: none;\n",
              "      border-radius: 50%;\n",
              "      cursor: pointer;\n",
              "      display: none;\n",
              "      fill: #1967D2;\n",
              "      height: 32px;\n",
              "      padding: 0 0 0 0;\n",
              "      width: 32px;\n",
              "    }\n",
              "\n",
              "    .colab-df-convert:hover {\n",
              "      background-color: #E2EBFA;\n",
              "      box-shadow: 0px 1px 2px rgba(60, 64, 67, 0.3), 0px 1px 3px 1px rgba(60, 64, 67, 0.15);\n",
              "      fill: #174EA6;\n",
              "    }\n",
              "\n",
              "    [theme=dark] .colab-df-convert {\n",
              "      background-color: #3B4455;\n",
              "      fill: #D2E3FC;\n",
              "    }\n",
              "\n",
              "    [theme=dark] .colab-df-convert:hover {\n",
              "      background-color: #434B5C;\n",
              "      box-shadow: 0px 1px 3px 1px rgba(0, 0, 0, 0.15);\n",
              "      filter: drop-shadow(0px 1px 2px rgba(0, 0, 0, 0.3));\n",
              "      fill: #FFFFFF;\n",
              "    }\n",
              "  </style>\n",
              "\n",
              "      <script>\n",
              "        const buttonEl =\n",
              "          document.querySelector('#df-e2c920e6-b12b-4649-bb14-3bb52b817224 button.colab-df-convert');\n",
              "        buttonEl.style.display =\n",
              "          google.colab.kernel.accessAllowed ? 'block' : 'none';\n",
              "\n",
              "        async function convertToInteractive(key) {\n",
              "          const element = document.querySelector('#df-e2c920e6-b12b-4649-bb14-3bb52b817224');\n",
              "          const dataTable =\n",
              "            await google.colab.kernel.invokeFunction('convertToInteractive',\n",
              "                                                     [key], {});\n",
              "          if (!dataTable) return;\n",
              "\n",
              "          const docLinkHtml = 'Like what you see? Visit the ' +\n",
              "            '<a target=\"_blank\" href=https://colab.research.google.com/notebooks/data_table.ipynb>data table notebook</a>'\n",
              "            + ' to learn more about interactive tables.';\n",
              "          element.innerHTML = '';\n",
              "          dataTable['output_type'] = 'display_data';\n",
              "          await google.colab.output.renderOutput(dataTable, element);\n",
              "          const docLink = document.createElement('div');\n",
              "          docLink.innerHTML = docLinkHtml;\n",
              "          element.appendChild(docLink);\n",
              "        }\n",
              "      </script>\n",
              "    </div>\n",
              "  </div>\n"
            ]
          },
          "metadata": {},
          "execution_count": 6
        }
      ],
      "source": [
        "data.head(5)"
      ]
    },
    {
      "cell_type": "markdown",
      "source": [
        "# Building Siamese Network Architecture"
      ],
      "metadata": {
        "id": "vfgWH8Xs_71D"
      }
    },
    {
      "cell_type": "code",
      "execution_count": 7,
      "metadata": {
        "id": "oLE4fDUEdjtq"
      },
      "outputs": [],
      "source": [
        "class SiameseNetwork(nn.Module):\n",
        "  def __init__(self):\n",
        "    super(SiameseNetwork, self).__init__()\n",
        "\n",
        "    self.conv1 = nn.Conv2d(in_channels=1, out_channels=96, kernel_size=11, stride=1)\n",
        "    self.bn1 = nn.BatchNorm2d(num_features=96)\n",
        "    self.maxpool1 = nn.MaxPool2d(kernel_size=3,stride= 2)\n",
        "    self.conv2 = nn.Conv2d(in_channels=96, out_channels=256, kernel_size=5, stride=1, padding=2)\n",
        "    self.bn2 = nn.BatchNorm2d(num_features=256)\n",
        "    self.maxpool2 = nn.MaxPool2d(kernel_size=3, stride=2)\n",
        "    self.dropout1 = nn.Dropout(p=0.3)\n",
        "    self.conv3 = nn.Conv2d(in_channels=256, out_channels=384, kernel_size=3, stride=1, padding=1)\n",
        "    self.conv4 = nn.Conv2d(in_channels=384, out_channels=256, kernel_size=3, stride=1, padding=1)\n",
        "    self.maxpool3 = nn.MaxPool2d(kernel_size=3, stride=2)\n",
        "    self.dropout2 = nn.Dropout(p=0.3)\n",
        "    self.fc1= nn.Linear(in_features=108800, out_features=1024)\n",
        "    self.dropout3 = nn.Dropout(p=0.5)\n",
        "    self.fc2= nn.Linear(in_features=1024,out_features=128)\n",
        "    self.relu = nn.ReLU(inplace = True)\n",
        "\n",
        "  def forward(self, x1, x2):\n",
        "    x1 = self.conv1(x1)\n",
        "    x1 = self.relu(x1)\n",
        "    x1 = self.bn1(x1)\n",
        "    x1 = self.maxpool1(x1)\n",
        "    x1 = self.conv2(x1)\n",
        "    x1 = self.relu(x1)\n",
        "    x1 = self.bn2(x1)\n",
        "    x1 = self.maxpool2(x1)\n",
        "    x1 = self.dropout1(x1)\n",
        "    x1 = self.conv3(x1)\n",
        "    x1 = self.relu(x1)\n",
        "    x1 = self.conv4(x1)\n",
        "    x1 = self.relu(x1)\n",
        "    x1 = self.maxpool3(x1)\n",
        "    x1 = self.dropout2(x1)\n",
        "    x1 = x1.view(x1.size()[0],-1)\n",
        "    x1 = self.fc1(x1)\n",
        "    x1 = self.relu(x1)\n",
        "    x1 = self.dropout3(x1)\n",
        "    x1 = self.fc2(x1)\n",
        "\n",
        "    x2 = self.conv1(x2)\n",
        "    x2 = self.relu(x2)\n",
        "    x2 = self.bn1(x2)\n",
        "    x2 = self.maxpool1(x2)\n",
        "    x2 = self.conv2(x2)\n",
        "    x2 = self.relu(x2)\n",
        "    x2 = self.bn2(x2)\n",
        "    x2 = self.maxpool2(x2)\n",
        "    x2 = self.dropout1(x2)\n",
        "    x2 = self.conv3(x2)\n",
        "    x2 = self.relu(x2)\n",
        "    x2 = self.conv4(x2)\n",
        "    x2 = self.relu(x2)\n",
        "    x2 = self.maxpool3(x2)\n",
        "    x2 = self.dropout2(x2)\n",
        "    x2 = x2.view(x2.size()[0],-1)\n",
        "    x2 = self.fc1(x2)\n",
        "    x2 = self.relu(x2)\n",
        "    x2 = self.dropout3(x2)\n",
        "    x2 = self.fc2(x2)\n",
        "    return x1, x2\n",
        "\n",
        "\n"
      ]
    },
    {
      "cell_type": "markdown",
      "source": [
        "# Contrastive Loss Function"
      ],
      "metadata": {
        "id": "jrlliif2AK-x"
      }
    },
    {
      "cell_type": "code",
      "execution_count": 8,
      "metadata": {
        "id": "i6i4Ovtb3dmp"
      },
      "outputs": [],
      "source": [
        "class ContrastiveLoss(nn.Module):\n",
        "    \"Contrastive loss function\"\n",
        "\n",
        "    def __init__(self, margin=1.0, constant1=1, constant2=2):\n",
        "        super(ContrastiveLoss, self).__init__()\n",
        "        self.margin = margin\n",
        "        self.constant1 = torch.tensor(constant1, dtype=torch.float32)\n",
        "        self.constant2 = torch.tensor(constant2, dtype=torch.float32)\n",
        "\n",
        "    def forward(self, output1, output2, label):\n",
        "        euclidean_distance = F.pairwise_distance(output1, output2, p=2)\n",
        "        loss_contrastive = torch.mean(\n",
        "            (label) * self.constant1 * torch.pow(euclidean_distance, 2)\n",
        "            + (1 - label) * self.constant2\n",
        "            * torch.pow(torch.clamp(self.margin - euclidean_distance, min=0.0), 2)\n",
        "        )\n",
        "\n",
        "        return loss_contrastive\n"
      ]
    },
    {
      "cell_type": "markdown",
      "source": [
        "# Creating DataLoader for training and validation"
      ],
      "metadata": {
        "id": "TRvl9CIkAhE-"
      }
    },
    {
      "cell_type": "code",
      "execution_count": 9,
      "metadata": {
        "id": "bYhpTEho4cvZ"
      },
      "outputs": [],
      "source": [
        "from torchvision.transforms import ToTensor\n",
        "\n",
        "class SiameseDataset(Dataset):\n",
        "    def __init__(self, df, transform=None):\n",
        "        self.df = df\n",
        "        self.transform = transform\n",
        "\n",
        "    def __len__(self):\n",
        "        return len(self.df)\n",
        "\n",
        "    def __getitem__(self, idx):\n",
        "        # Load the image using OpenCV\n",
        "        image1 = Image.open(self.df.iloc[idx, 0])\n",
        "        image2 = Image.open(self.df.iloc[idx, 1])\n",
        "\n",
        "        # Apply the transformation pipeline if provided\n",
        "        if self.transform is not None:\n",
        "            image1 = self.transform(image1)\n",
        "            image2 = self.transform(image2)\n",
        "\n",
        "        label = self.df.iloc[idx, 2]\n",
        "\n",
        "        return image1, image2, torch.tensor(label, dtype=torch.float32)"
      ]
    },
    {
      "cell_type": "code",
      "execution_count": 10,
      "metadata": {
        "id": "i4puoAr75GXU"
      },
      "outputs": [],
      "source": [
        "transform=transforms.Compose(\n",
        "        [transforms.Resize((155, 220)), transforms.ToTensor()])"
      ]
    },
    {
      "cell_type": "code",
      "execution_count": 11,
      "metadata": {
        "id": "ezdZh5D_45S-"
      },
      "outputs": [],
      "source": [
        " # Load the dataset as pytorch tensors using dataloader\n",
        "train_dataloader = DataLoader(SiameseDataset(data.iloc[0:16000, :], transform=transform),\n",
        "                        shuffle=True,\n",
        "                        num_workers=2,\n",
        "                        batch_size=32)"
      ]
    },
    {
      "cell_type": "code",
      "execution_count": 12,
      "metadata": {
        "id": "1r0E44k445M1"
      },
      "outputs": [],
      "source": [
        " # Load the dataset as pytorch tensors using dataloader\n",
        "eval_dataloader = DataLoader(SiameseDataset(data.iloc[16000:, :], transform=transform),\n",
        "                        shuffle=True,\n",
        "                        num_workers=2,\n",
        "                        batch_size=32)"
      ]
    },
    {
      "cell_type": "markdown",
      "source": [
        "# Code for training"
      ],
      "metadata": {
        "id": "4NDQiPbuAsoh"
      }
    },
    {
      "cell_type": "code",
      "execution_count": 13,
      "metadata": {
        "id": "3WLnxTjhGb21"
      },
      "outputs": [],
      "source": [
        "# Declare Siamese Network\n",
        "net = SiameseNetwork().cuda()\n",
        "\n",
        "# Declare Loss Function\n",
        "criterion = ContrastiveLoss()\n",
        "\n",
        "# Declare Optimizer\n",
        "optimizer = torch.optim.Adam(net.parameters(), lr = 1e-4, weight_decay=0.0005)\n",
        "scheduler = ExponentialLR(optimizer, gamma=0.9)\n"
      ]
    },
    {
      "cell_type": "code",
      "source": [
        "def train(train_dataloader):\n",
        "    loss=[]\n",
        "    counter=[]\n",
        "    iteration_number = 0\n",
        "    for i, data in enumerate(train_dataloader,0):\n",
        "      img0, img1 , label = data\n",
        "      img0, img1 , label = img0.cuda(), img1.cuda() , label.cuda()\n",
        "      optimizer.zero_grad()\n",
        "      output1,output2 = net(img0,img1)\n",
        "      loss_contrastive = criterion(output1,output2,label)\n",
        "      loss_contrastive.backward()\n",
        "      optimizer.step()\n",
        "      loss.append(loss_contrastive.item())\n",
        "    loss = np.array(loss)\n",
        "    return loss.mean()/len(train_dataloader)"
      ],
      "metadata": {
        "id": "nlSqaRn_2Wdx"
      },
      "execution_count": 14,
      "outputs": []
    },
    {
      "cell_type": "code",
      "source": [
        "def eval(eval_dataloader):\n",
        "    loss=[]\n",
        "    counter=[]\n",
        "    iteration_number = 0\n",
        "    for i, data in enumerate(eval_dataloader,0):\n",
        "      img0, img1 , label = data\n",
        "      img0, img1 , label = img0.cuda(), img1.cuda() , label.cuda()\n",
        "      output1,output2 = net(img0,img1)\n",
        "      loss_contrastive = criterion(output1,output2,label)\n",
        "      loss.append(loss_contrastive.item())\n",
        "    loss = np.array(loss)\n",
        "    return loss.mean()/len(eval_dataloader)"
      ],
      "metadata": {
        "id": "5E8ewYSl2Sho"
      },
      "execution_count": 15,
      "outputs": []
    },
    {
      "cell_type": "code",
      "execution_count": null,
      "metadata": {
        "colab": {
          "base_uri": "https://localhost:8080/"
        },
        "id": "Ql9eZHjNHn5m",
        "outputId": "cffed7d4-7c82-43ea-8192-b76485cf6f35"
      },
      "outputs": [
        {
          "output_type": "stream",
          "name": "stdout",
          "text": [
            "Epoch: 1\n",
            "Training loss0.000770075845360756\n",
            "----------\n",
            "Eval loss0.043544108770331554\n",
            "----------\n",
            "Best Eval loss0.043544108770331554\n",
            "Model Saved Successfully\n",
            "Epoch: 2\n",
            "Training loss0.0005667633628845214\n",
            "----------\n",
            "Eval loss0.0398093258239785\n",
            "----------\n",
            "Best Eval loss0.0398093258239785\n",
            "Model Saved Successfully\n",
            "Epoch: 3\n",
            "Training loss0.0005431532354950905\n",
            "----------\n",
            "Eval loss0.038464926943487056\n",
            "----------\n",
            "Best Eval loss0.038464926943487056\n",
            "Model Saved Successfully\n",
            "Epoch: 4\n",
            "Training loss0.0005239110862612725\n",
            "----------\n",
            "Eval loss0.0371349609019805\n",
            "----------\n",
            "Best Eval loss0.0371349609019805\n",
            "Model Saved Successfully\n",
            "Epoch: 5\n",
            "Training loss0.000511008471429348\n",
            "----------\n",
            "Eval loss0.0357029739083076\n",
            "----------\n",
            "Best Eval loss0.0357029739083076\n",
            "Model Saved Successfully\n",
            "Epoch: 6\n",
            "Training loss0.0005047732516527176\n",
            "----------\n",
            "Eval loss0.0327218302658626\n",
            "----------\n",
            "Best Eval loss0.0327218302658626\n",
            "Model Saved Successfully\n",
            "Epoch: 7\n",
            "Training loss0.0004891057934761047\n",
            "----------\n",
            "Eval loss0.03465442511500145\n",
            "Epoch: 8\n",
            "Training loss0.0004752798230051994\n",
            "----------\n",
            "Eval loss0.036016564284052165\n",
            "Epoch: 9\n",
            "Training loss0.00046185421293973923\n",
            "----------\n",
            "Eval loss0.03512659364817094\n",
            "Epoch: 10\n",
            "Training loss0.0004404512196779251\n",
            "----------\n",
            "Eval loss0.03373239995265494\n",
            "Epoch: 11\n",
            "Training loss0.000416811207652092\n",
            "----------\n",
            "Eval loss0.03216614558988688\n",
            "----------\n",
            "Best Eval loss0.03216614558988688\n",
            "Model Saved Successfully\n",
            "Epoch: 12\n",
            "Training loss0.00039814360743761063\n",
            "----------\n",
            "Eval loss0.031163238749212147\n",
            "----------\n",
            "Best Eval loss0.031163238749212147\n",
            "Model Saved Successfully\n",
            "Epoch: 13\n",
            "Training loss0.00036699461621046063\n",
            "----------\n",
            "Eval loss0.034725903552405686\n",
            "Epoch: 14\n",
            "Training loss0.00034477984297275543\n",
            "----------\n",
            "Eval loss0.029575163004349692\n",
            "----------\n",
            "Best Eval loss0.029575163004349692\n",
            "Model Saved Successfully\n",
            "Epoch: 15\n",
            "Training loss0.00032193474367260934\n",
            "----------\n",
            "Eval loss0.030489819694538508\n",
            "Epoch: 16\n",
            "Training loss0.00029936928465962406\n",
            "----------\n",
            "Eval loss0.03083636809368523\n",
            "Epoch: 17\n",
            "Training loss0.00027987500512599946\n",
            "----------\n",
            "Eval loss0.028888097222970456\n",
            "----------\n",
            "Best Eval loss0.028888097222970456\n",
            "Model Saved Successfully\n",
            "Epoch: 18\n",
            "Training loss0.0002613674490451813\n",
            "----------\n",
            "Eval loss0.02777776274145866\n",
            "----------\n",
            "Best Eval loss0.02777776274145866\n",
            "Model Saved Successfully\n",
            "Epoch: 19\n",
            "Training loss0.0002414845822751522\n",
            "----------\n",
            "Eval loss0.029028781518644214\n",
            "Epoch: 20\n",
            "Training loss0.00022905660238862037\n",
            "----------\n",
            "Eval loss0.028457613319766765\n",
            "Epoch: 21\n",
            "Training loss0.0002168331212848425\n",
            "----------\n",
            "Eval loss0.02702211999163336\n",
            "----------\n",
            "Best Eval loss0.02702211999163336\n",
            "Model Saved Successfully\n",
            "Epoch: 22\n",
            "Training loss0.00020493061135709286\n",
            "----------\n",
            "Eval loss0.02468139663034556\n",
            "----------\n",
            "Best Eval loss0.02468139663034556\n",
            "Model Saved Successfully\n",
            "Epoch: 23\n",
            "Training loss0.00019152144627273082\n",
            "----------\n",
            "Eval loss0.02987425819951661\n",
            "Epoch: 24\n",
            "Training loss0.0001837942339628935\n",
            "----------\n",
            "Eval loss0.026585122152250642\n",
            "Epoch: 25\n",
            "Training loss0.00017579802726209166\n",
            "----------\n",
            "Eval loss0.025866193430764333\n",
            "Epoch: 26\n",
            "Training loss0.00016791443078219889\n",
            "----------\n",
            "Eval loss0.026305322440303102\n",
            "Epoch: 27\n",
            "Training loss0.00015969621709734203\n",
            "----------\n",
            "Eval loss0.02634645055751411\n",
            "Epoch: 28\n",
            "Training loss0.00015324014827609061\n",
            "----------\n",
            "Eval loss0.02647053830477656\n",
            "Epoch: 29\n",
            "Training loss0.00014766551204025747\n",
            "----------\n",
            "Eval loss0.027675997541875254\n"
          ]
        }
      ],
      "source": [
        "best_eval_loss = 9999\n",
        "for epoch in range(1,30):\n",
        "  train_loss = train(train_dataloader)\n",
        "  eval_loss = eval(eval_dataloader)\n",
        "  print(\"Epoch:\",epoch)\n",
        "  print(f\"Training loss{train_loss}\")\n",
        "  print(\"-\"*10)\n",
        "  print(f\"Eval loss{eval_loss}\")\n",
        "  scheduler.step()\n",
        "\n",
        "  if eval_loss<best_eval_loss:\n",
        "    best_eval_loss = eval_loss\n",
        "    print(\"-\"*10)\n",
        "    print(f\"Best Eval loss{best_eval_loss}\")\n",
        "    torch.save(net.state_dict(), \"/content/drive/MyDrive/dataset/SaraSwati_Writes_Final_Model.pth\")\n",
        "    print(\"Model Saved Successfully\")"
      ]
    },
    {
      "cell_type": "markdown",
      "source": [
        "#Loading the trained siamese network"
      ],
      "metadata": {
        "id": "y2tEnNlsjkV8"
      }
    },
    {
      "cell_type": "code",
      "execution_count": 16,
      "metadata": {
        "id": "GMLn75gKH1O2"
      },
      "outputs": [],
      "source": [
        "device=torch.device('cuda' if torch.cuda.is_available() else 'cpu')"
      ]
    },
    {
      "cell_type": "code",
      "execution_count": 17,
      "metadata": {
        "colab": {
          "base_uri": "https://localhost:8080/"
        },
        "id": "uVqln9f6H37c",
        "outputId": "6d6d3721-e4d9-47e9-863a-b5cb164380aa"
      },
      "outputs": [
        {
          "output_type": "execute_result",
          "data": {
            "text/plain": [
              "<All keys matched successfully>"
            ]
          },
          "metadata": {},
          "execution_count": 17
        }
      ],
      "source": [
        "net = SiameseNetwork().to(device)\n",
        "\n",
        "# Load the saved state dictionary\n",
        "state_dict = torch.load(\"/content/drive/MyDrive/dataset/SaraSwati_Writes_Final_Model.pth\")\n",
        "\n",
        "# Load the state dictionary into the model\n",
        "net.load_state_dict(state_dict)"
      ]
    },
    {
      "cell_type": "markdown",
      "source": [
        "# Extract output features of the siamese model"
      ],
      "metadata": {
        "id": "StqQYEdfjzPa"
      }
    },
    {
      "cell_type": "code",
      "execution_count": 18,
      "metadata": {
        "id": "ikq67aeAeIiF"
      },
      "outputs": [],
      "source": [
        "def extract_features(model,data):  #type(data)-->Dataframe\n",
        "    model.eval()\n",
        "    features=[]\n",
        "    # Iterate over the rows of the DataFrame starting from index 1600\n",
        "    for sample in data.iloc[:, :].values:\n",
        "        # Load the image using PIL\n",
        "        image1 = Image.open(sample[0])\n",
        "        image2 = Image.open(sample[1])\n",
        "        # Apply the transformation pipeline\n",
        "        transformed_image1 = transform(image1)\n",
        "        transformed_image2 = transform(image2)\n",
        "\n",
        "        # Move the tensors to the appropriate device\n",
        "        transformed_image1 = transformed_image1.to(device)\n",
        "        transformed_image2 = transformed_image2.to(device)\n",
        "\n",
        "        # Add an extra dimension to match the model input shape\n",
        "        transformed_image1 = transformed_image1.unsqueeze(0)\n",
        "        transformed_image2 = transformed_image2.unsqueeze(0)\n",
        "\n",
        "        # Forward pass through the model\n",
        "        with torch.no_grad():\n",
        "            feature=[]\n",
        "            output1, output2= model(transformed_image1, transformed_image2)\n",
        "            output1 = output1/torch.norm(output1)\n",
        "            output2 = output2/torch.norm(output2)\n",
        "            output1 = output1.cpu().numpy()\n",
        "            output2 = output2.cpu().numpy()\n",
        "            feature.append(output1)\n",
        "            feature.append(output2)\n",
        "        features.append(feature)\n",
        "    return features\n"
      ]
    },
    {
      "cell_type": "code",
      "execution_count": 19,
      "metadata": {
        "id": "6XK4jVqkujsG"
      },
      "outputs": [],
      "source": [
        "train_features = extract_features(net,data.iloc[:16000,:])\n",
        "train_labels = data.iloc[:16000,:]['label']"
      ]
    },
    {
      "cell_type": "code",
      "execution_count": 20,
      "metadata": {
        "id": "nEpJOUUIxjMC",
        "colab": {
          "base_uri": "https://localhost:8080/"
        },
        "outputId": "6545d341-52ce-4099-f829-c62ce4e99fa6"
      },
      "outputs": [
        {
          "output_type": "execute_result",
          "data": {
            "text/plain": [
              "(16000, 2, 1, 128)"
            ]
          },
          "metadata": {},
          "execution_count": 20
        }
      ],
      "source": [
        "np.array(train_features).shape"
      ]
    },
    {
      "cell_type": "code",
      "execution_count": 21,
      "metadata": {
        "id": "ohyFP4SgvUeu"
      },
      "outputs": [],
      "source": [
        "val_data=pd.read_csv(\"/content/drive/MyDrive/dataset/val.csv\")\n",
        "val_data_copy = val_data.copy()\n",
        "\n",
        "# Concatenate string to the start of each value in columns 1 and 2\n",
        "string_to_concat = \"/content/drive/MyDrive/dataset/val/\"\n",
        "\n",
        "val_data_copy.iloc[:, 0:2] = string_to_concat + val_data_copy.iloc[:, 0:2].astype(str)\n",
        "\n",
        "val_features = extract_features(net,val_data_copy)\n"
      ]
    },
    {
      "cell_type": "code",
      "source": [
        "train_features=np.array(train_features)\n",
        "val_features=np.array(val_features)"
      ],
      "metadata": {
        "id": "slboMi_l9W2P"
      },
      "execution_count": 22,
      "outputs": []
    },
    {
      "cell_type": "code",
      "source": [
        "np.array(val_features).shape"
      ],
      "metadata": {
        "id": "PkveJimY3ay7",
        "colab": {
          "base_uri": "https://localhost:8080/"
        },
        "outputId": "5eb84cbe-6cbd-4e7c-856f-d45d1d52b4b1"
      },
      "execution_count": 23,
      "outputs": [
        {
          "output_type": "execute_result",
          "data": {
            "text/plain": [
              "(5770, 2, 1, 128)"
            ]
          },
          "metadata": {},
          "execution_count": 23
        }
      ]
    },
    {
      "cell_type": "code",
      "source": [
        "val_labels = np.asarray(val_data['label'])"
      ],
      "metadata": {
        "id": "PnnjkC6_0vgP"
      },
      "execution_count": 24,
      "outputs": []
    },
    {
      "cell_type": "code",
      "source": [
        "train_features_reshaped = np.squeeze(train_features)\n",
        "print(train_features_reshaped.shape)\n",
        "\n",
        "train_features_reshaped = np.reshape(train_features_reshaped, train_features.shape)\n",
        "\n",
        "train_features_flattened = np.reshape(train_features_reshaped, (train_features.shape[0], -1))\n",
        "train_features_flattened.shape"
      ],
      "metadata": {
        "id": "kRI_Lp1k89-h",
        "colab": {
          "base_uri": "https://localhost:8080/"
        },
        "outputId": "1583d29d-f5bd-48d4-eb2b-91760736062e"
      },
      "execution_count": 25,
      "outputs": [
        {
          "output_type": "stream",
          "name": "stdout",
          "text": [
            "(16000, 2, 128)\n"
          ]
        },
        {
          "output_type": "execute_result",
          "data": {
            "text/plain": [
              "(16000, 256)"
            ]
          },
          "metadata": {},
          "execution_count": 25
        }
      ]
    },
    {
      "cell_type": "code",
      "source": [
        "val_features_reshaped = np.squeeze(val_features)\n",
        "print(val_features_reshaped.shape)\n",
        "\n",
        "val_features_reshaped = np.reshape(val_features_reshaped, val_features.shape)\n",
        "\n",
        "val_features_flattened = np.reshape(val_features_reshaped, (val_features.shape[0], -1))\n",
        "val_features_flattened.shape"
      ],
      "metadata": {
        "id": "qdwDQ8qM8D-R",
        "colab": {
          "base_uri": "https://localhost:8080/"
        },
        "outputId": "35f0256d-df20-4234-ea1a-8f06f28b2fd5"
      },
      "execution_count": 26,
      "outputs": [
        {
          "output_type": "stream",
          "name": "stdout",
          "text": [
            "(5770, 2, 128)\n"
          ]
        },
        {
          "output_type": "execute_result",
          "data": {
            "text/plain": [
              "(5770, 256)"
            ]
          },
          "metadata": {},
          "execution_count": 26
        }
      ]
    },
    {
      "cell_type": "markdown",
      "source": [
        "# Classification using KNN"
      ],
      "metadata": {
        "id": "X4xX6nI2kiJ9"
      }
    },
    {
      "cell_type": "code",
      "source": [
        "def knn_fit(train_features, train_labels,k):\n",
        "    knn = KNeighborsClassifier(n_neighbors=k, metric='euclidean')\n",
        "    knn.fit(train_features, train_labels)\n",
        "    joblib.dump(knn, '/content/drive/MyDrive/dataset/knn_model.pkl')\n"
      ],
      "metadata": {
        "id": "mtvxaPMINOJu"
      },
      "execution_count": 27,
      "outputs": []
    },
    {
      "cell_type": "code",
      "execution_count": 28,
      "metadata": {
        "id": "CHGhTsLpv47K"
      },
      "outputs": [],
      "source": [
        "def knn_predict(test_features):\n",
        "    knn = joblib.load('/content/drive/MyDrive/dataset/knn_model.pkl')\n",
        "    predicted_labels = knn.predict(test_features)\n",
        "    probabilities = knn.predict_proba(test_features)[:,1]\n",
        "    return predicted_labels, probabilities\n"
      ]
    },
    {
      "cell_type": "code",
      "source": [
        "knn_fit(np.array(train_features_flattened), np.array(train_labels),100)"
      ],
      "metadata": {
        "id": "AFc8vhUGN0nM"
      },
      "execution_count": 29,
      "outputs": []
    },
    {
      "cell_type": "code",
      "source": [
        "predicted_labels1, probabilities1 = knn_predict( np.array(val_features_flattened))"
      ],
      "metadata": {
        "id": "LiGQGAFA0jYK"
      },
      "execution_count": 30,
      "outputs": []
    },
    {
      "cell_type": "code",
      "source": [
        "f1_knn = f1_score(val_labels, predicted_labels1)\n",
        "auc_knn = roc_auc_score(val_labels, probabilities1)\n",
        "acc_knn = accuracy_score(val_labels, predicted_labels1)\n",
        "\n",
        "print(\"F1 Score:\", f1_knn)\n",
        "print(\"AUC:\", auc_knn)\n",
        "print(\"Accuracy\",acc_knn)"
      ],
      "metadata": {
        "colab": {
          "base_uri": "https://localhost:8080/"
        },
        "id": "UBUrzVZV1Ok7",
        "outputId": "98d06c40-8f6e-4b3c-954b-ba10dba3429a"
      },
      "execution_count": 31,
      "outputs": [
        {
          "output_type": "stream",
          "name": "stdout",
          "text": [
            "F1 Score: 0.7752465147908875\n",
            "AUC: 0.8440000720874421\n",
            "Accuracy 0.7708838821490468\n"
          ]
        }
      ]
    },
    {
      "cell_type": "markdown",
      "source": [
        "# Classification using SVC"
      ],
      "metadata": {
        "id": "M3dxTLMNkq2N"
      }
    },
    {
      "cell_type": "code",
      "source": [
        "def svc_fit(train_features, train_labels,kernel='rbf'):\n",
        "    svm = SVC(kernel = kernel, probability = True)\n",
        "    svm.fit(train_features, train_labels)\n",
        "    joblib.dump(svm, '/content/drive/MyDrive/dataset/svc_model.pkl')\n"
      ],
      "metadata": {
        "id": "WHd25YFCD7ZR"
      },
      "execution_count": 32,
      "outputs": []
    },
    {
      "cell_type": "code",
      "source": [
        "def svc_predict(test_features):\n",
        "  svm = joblib.load('/content/drive/MyDrive/dataset/svc_model.pkl')\n",
        "  predicted_labels = svm.predict(test_features)\n",
        "  probabilities = svm.predict_proba(test_features)[:,1]\n",
        "  return predicted_labels, probabilities"
      ],
      "metadata": {
        "id": "UE47UEpMmdx-"
      },
      "execution_count": 33,
      "outputs": []
    },
    {
      "cell_type": "code",
      "source": [
        "svc_fit(np.array(train_features_flattened), np.array(train_labels))"
      ],
      "metadata": {
        "id": "7SrjPRc3Eow7"
      },
      "execution_count": 34,
      "outputs": []
    },
    {
      "cell_type": "code",
      "source": [
        "predicted_labels2, probabilities2 = svc_predict( np.array(val_features_flattened))"
      ],
      "metadata": {
        "id": "ohvsVFyzEow8"
      },
      "execution_count": 35,
      "outputs": []
    },
    {
      "cell_type": "code",
      "source": [
        "f1_svc = f1_score(val_labels, predicted_labels2)\n",
        "auc_svc = roc_auc_score(val_labels, probabilities2)\n",
        "acc_svc = accuracy_score(val_labels, predicted_labels2)\n",
        "\n",
        "print(\"F1 Score:\", f1_svc)\n",
        "print(\"AUC:\", auc_svc)\n",
        "print(\"Accuracy\",acc_svc)"
      ],
      "metadata": {
        "colab": {
          "base_uri": "https://localhost:8080/"
        },
        "id": "GfUNhccBoHQ8",
        "outputId": "54188719-fe10-4502-e6e1-619abe3fa61f"
      },
      "execution_count": 36,
      "outputs": [
        {
          "output_type": "stream",
          "name": "stdout",
          "text": [
            "F1 Score: 0.7620391603457399\n",
            "AUC: 0.8426081236539924\n",
            "Accuracy 0.7662045060658579\n"
          ]
        }
      ]
    },
    {
      "cell_type": "markdown",
      "source": [
        "# Classification using Adaboost with base estimator as Gradient Boosting Classifier"
      ],
      "metadata": {
        "id": "TtFZdVqukzcd"
      }
    },
    {
      "cell_type": "code",
      "source": [
        "def adaboost_fit(train_features, train_labels,kernel='rbf'):\n",
        "    base_estimator = GradientBoostingClassifier(n_estimators=10, learning_rate=0.1)\n",
        "    adaboost = AdaBoostClassifier(estimator=base_estimator, n_estimators=10, learning_rate=1.0)\n",
        "    adaboost.fit(train_features, train_labels)\n",
        "    joblib.dump(adaboost, '/content/drive/MyDrive/dataset/adaboost_model.pkl')\n"
      ],
      "metadata": {
        "id": "cm3PYF3vFXNE"
      },
      "execution_count": 37,
      "outputs": []
    },
    {
      "cell_type": "code",
      "source": [
        "def adaboost_predict(test_features):\n",
        "  adaboost = joblib.load('/content/drive/MyDrive/dataset/adaboost_model.pkl')\n",
        "  predicted_labels = adaboost.predict(test_features)\n",
        "  probabilities = adaboost.predict_proba(test_features)[:,1]\n",
        "  return predicted_labels, probabilities"
      ],
      "metadata": {
        "id": "IMSckK5iGNbf"
      },
      "execution_count": 38,
      "outputs": []
    },
    {
      "cell_type": "code",
      "source": [
        "adaboost_fit(np.array(train_features_flattened), np.array(train_labels))"
      ],
      "metadata": {
        "id": "EqOdhjR6Gj1C"
      },
      "execution_count": 39,
      "outputs": []
    },
    {
      "cell_type": "code",
      "source": [
        "predicted_labels3, probabilities3 = adaboost_predict( np.array(val_features_flattened))"
      ],
      "metadata": {
        "id": "E4GCPAheGsk8"
      },
      "execution_count": 40,
      "outputs": []
    },
    {
      "cell_type": "code",
      "source": [
        "f1_gb = f1_score(val_labels, predicted_labels3)\n",
        "auc_gb = roc_auc_score(val_labels, probabilities3)\n",
        "acc_gb = accuracy_score(val_labels, predicted_labels3)\n",
        "\n",
        "print(\"F1 Score:\", f1_gb)\n",
        "print(\"AUC:\", auc_gb)\n",
        "print(\"Accuracy\",acc_gb)"
      ],
      "metadata": {
        "id": "piyXe2MOcKsQ",
        "colab": {
          "base_uri": "https://localhost:8080/"
        },
        "outputId": "2cd8f404-d55d-47d0-fd4b-98808768c2ec"
      },
      "execution_count": 41,
      "outputs": [
        {
          "output_type": "stream",
          "name": "stdout",
          "text": [
            "F1 Score: 0.7658031088082902\n",
            "AUC: 0.825324318398217\n",
            "Accuracy 0.7649913344887348\n"
          ]
        }
      ]
    },
    {
      "cell_type": "markdown",
      "source": [
        "# Classification using combined results of above classifiers (similar to ensemble method)"
      ],
      "metadata": {
        "id": "XFhxmNAvlB-l"
      }
    },
    {
      "cell_type": "code",
      "source": [
        "final_proba=[]\n",
        "final_label=[]\n",
        "for i in range(len(probabilities2)):\n",
        "  if probabilities1[i] > 0.5 and probabilities2[i] > 0.5:\n",
        "    proba = max(probabilities1[i], probabilities2[i] )\n",
        "  if probabilities2[i] > 0.5 and probabilities3[i] > 0.5:\n",
        "    proba = max(probabilities2[i], probabilities3[i] )\n",
        "  if probabilities1[i] > 0.5 and probabilities3[i] > 0.5:\n",
        "    proba = max(probabilities1[i], probabilities3[i] )\n",
        "  if probabilities1[i] > 0.5 and probabilities2[i] > 0.5 and probabilities3[i] > 0.5:\n",
        "    proba = max(probabilities1[i],probabilities2[i], probabilities3[i] )\n",
        "  if probabilities1[i] < 0.5 and probabilities2[i] < 0.5:\n",
        "    proba = min(probabilities1[i], probabilities2[i] )\n",
        "  if probabilities2[i] < 0.5 and probabilities3[i] < 0.5:\n",
        "    proba = min(probabilities2[i], probabilities3[i] )\n",
        "  if probabilities1[i] < 0.5 and probabilities3[i] < 0.5:\n",
        "    proba = min(probabilities1[i], probabilities3[i] )\n",
        "  if probabilities1[i] < 0.5 and probabilities2[i] < 0.5 and probabilities3[i] < 0.5:\n",
        "    proba = min(probabilities1[i],probabilities2[i], probabilities3[i] )\n",
        "  final_proba.append(proba)\n",
        "  if proba > 0.5:\n",
        "    final_label.append(1)\n",
        "  else:\n",
        "    final_label.append(0)\n"
      ],
      "metadata": {
        "id": "69lzpSj0HAPb"
      },
      "execution_count": 42,
      "outputs": []
    },
    {
      "cell_type": "code",
      "source": [
        "f1_ensemble = f1_score(val_labels, final_label)\n",
        "auc_ensemble = roc_auc_score(val_labels, final_proba)\n",
        "acc_ensemble = accuracy_score(val_labels, final_label)\n",
        "\n",
        "# Print the F1 score and AUC\n",
        "print(\"F1 Score:\", f1_ensemble)\n",
        "print(\"AUC:\", auc_ensemble)\n",
        "print(\"Accuracy\",acc_ensemble)"
      ],
      "metadata": {
        "id": "685tHAa6vJdu",
        "colab": {
          "base_uri": "https://localhost:8080/"
        },
        "outputId": "23b87673-b36a-48b6-d54a-91ed26438125"
      },
      "execution_count": 43,
      "outputs": [
        {
          "output_type": "stream",
          "name": "stdout",
          "text": [
            "F1 Score: 0.769845405593191\n",
            "AUC: 0.8449945183507596\n",
            "Accuracy 0.770363951473137\n"
          ]
        }
      ]
    },
    {
      "cell_type": "markdown",
      "source": [
        "# Comparison Graph"
      ],
      "metadata": {
        "id": "A8Q5Fkn5lZev"
      }
    },
    {
      "cell_type": "code",
      "source": [
        "# Sample data\n",
        "x = ['KNN','SVC','Adaboost','Ensemble']\n",
        "y = [auc_knn,auc_svc,auc_gb,auc_ensemble]\n",
        "\n",
        "# Create plot\n",
        "plt.plot(x, y, marker='o')\n",
        "\n",
        "# Add labels and title\n",
        "plt.xlabel('Methods')\n",
        "plt.ylabel('AUC_Score')\n",
        "plt.title('AUC_Score Bar Plot')\n",
        "\n",
        "# Display the plot\n",
        "plt.show()\n",
        "\n",
        "\n",
        "# Sample data\n",
        "x = ['KNN','SVC','Adaboost','Ensemble']\n",
        "y = [f1_knn,f1_svc,f1_gb,f1_ensemble]\n",
        "\n",
        "# Create plot\n",
        "plt.plot(x, y, marker='o')\n",
        "\n",
        "# Add labels and title\n",
        "plt.xlabel('Methods')\n",
        "plt.ylabel('F1 Score')\n",
        "plt.title('F1 Score Bar Plot')\n",
        "\n",
        "# Display the plot\n",
        "plt.show()"
      ],
      "metadata": {
        "id": "3VS9W9OKi_fl",
        "colab": {
          "base_uri": "https://localhost:8080/",
          "height": 927
        },
        "outputId": "e52add16-44a1-4238-c4f4-03f80b0c0c56"
      },
      "execution_count": 44,
      "outputs": [
        {
          "output_type": "display_data",
          "data": {
            "text/plain": [
              "<Figure size 640x480 with 1 Axes>"
            ],
            "image/png": "[encoded data removed]"
          },
          "metadata": {}
        },
        {
          "output_type": "display_data",
          "data": {
            "text/plain": [
              "<Figure size 640x480 with 1 Axes>"
            ],
            "image/png": "[encoded data removed]"
          },
          "metadata": {}
        }
      ]
    },
    {
      "cell_type": "markdown",
      "source": [
        "Best AUC with KNN"
      ],
      "metadata": {
        "id": "HiMWBwz9nCrb"
      }
    },
    {
      "cell_type": "markdown",
      "source": [
        "# Testing"
      ],
      "metadata": {
        "id": "rQ2W0GlDlfwF"
      }
    },
    {
      "cell_type": "code",
      "source": [
        "test_data=pd.read_csv(\"/content/drive/MyDrive/dataset/test.csv\")\n",
        "test_data_copy = test_data.copy()\n",
        "\n",
        "string_to_concat = \"/content/drive/MyDrive/dataset/semi_test/\"\n",
        "\n",
        "test_data_copy.iloc[:, 0:2] = string_to_concat + test_data_copy.iloc[:, 0:2].astype(str)\n",
        "\n",
        "test_features = extract_features(net,test_data_copy)\n"
      ],
      "metadata": {
        "id": "zCxMr_NPldvi"
      },
      "execution_count": 45,
      "outputs": []
    },
    {
      "cell_type": "code",
      "source": [
        "test_features=np.array(test_features)"
      ],
      "metadata": {
        "id": "SzEQeEzSrph8"
      },
      "execution_count": 46,
      "outputs": []
    },
    {
      "cell_type": "code",
      "source": [
        "test_features_reshaped = np.squeeze(test_features)\n",
        "print(test_features_reshaped.shape)\n",
        "\n",
        "test_features_reshaped = np.reshape(test_features_reshaped, test_features.shape)\n",
        "\n",
        "test_features_flattened = np.reshape(test_features_reshaped, (test_features.shape[0], -1))\n",
        "test_features_flattened.shape"
      ],
      "metadata": {
        "colab": {
          "base_uri": "https://localhost:8080/"
        },
        "id": "jHaHcnmPniT6",
        "outputId": "f0af7ce7-f843-46ff-e982-96d771f16c30"
      },
      "execution_count": 47,
      "outputs": [
        {
          "output_type": "stream",
          "name": "stdout",
          "text": [
            "(10586, 2, 128)\n"
          ]
        },
        {
          "output_type": "execute_result",
          "data": {
            "text/plain": [
              "(10586, 256)"
            ]
          },
          "metadata": {},
          "execution_count": 47
        }
      ]
    },
    {
      "cell_type": "code",
      "source": [
        "predicted_test_labels, test_probabilities = knn_predict(np.array(test_features_flattened))"
      ],
      "metadata": {
        "id": "RsvoGiUunRzF"
      },
      "execution_count": 48,
      "outputs": []
    },
    {
      "cell_type": "code",
      "source": [
        "test_probabilities"
      ],
      "metadata": {
        "colab": {
          "base_uri": "https://localhost:8080/"
        },
        "id": "ObmAYeOZrxwc",
        "outputId": "bff78436-c2d6-4fd9-e733-7fea15ce2658"
      },
      "execution_count": 49,
      "outputs": [
        {
          "output_type": "execute_result",
          "data": {
            "text/plain": [
              "array([0.9 , 0.98, 0.84, ..., 0.22, 0.94, 0.  ])"
            ]
          },
          "metadata": {},
          "execution_count": 49
        }
      ]
    },
    {
      "cell_type": "code",
      "source": [
        "submission = pd.DataFrame()\n",
        "submission['id'] = test_data['img1_name']+'_'+test_data['img2_name']\n",
        "submission['proba'] = test_probabilities\n",
        "submission.to_csv('/content/drive/MyDrive/dataset/SSWrites_Semi_final_Submission.csv', index=False)"
      ],
      "metadata": {
        "id": "X6L4DoWmr9uI"
      },
      "execution_count": 50,
      "outputs": []
    },
    {
      "cell_type": "code",
      "source": [
        "submission.shape"
      ],
      "metadata": {
        "colab": {
          "base_uri": "https://localhost:8080/"
        },
        "id": "6uUx8Wl1x-tj",
        "outputId": "8a8e1b13-7eee-487c-9d24-58b267a84227"
      },
      "execution_count": 51,
      "outputs": [
        {
          "output_type": "execute_result",
          "data": {
            "text/plain": [
              "(10586, 2)"
            ]
          },
          "metadata": {},
          "execution_count": 51
        }
      ]
    }
  ]
}
